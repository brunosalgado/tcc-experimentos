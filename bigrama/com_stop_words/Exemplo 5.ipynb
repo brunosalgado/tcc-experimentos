{
 "cells": [
  {
   "cell_type": "markdown",
   "metadata": {},
   "source": [
    "# K-Nearest Neighbors\n",
    "### Modelo 05\n",
    "- CountVectorizer\n",
    "- Base A\n",
    "\n",
    "\n",
    "#### Imports necessarios para funcionamento da aplicacao"
   ]
  },
  {
   "cell_type": "code",
   "execution_count": 1,
   "metadata": {},
   "outputs": [],
   "source": [
    "import re\n",
    "import random\n",
    "import numpy as np\n",
    "import pandas as pd\n",
    "import matplotlib.pyplot as plt\n",
    "from math import sqrt\n",
    "from sklearn.preprocessing import LabelEncoder\n",
    "from sklearn.model_selection import train_test_split, cross_val_score\n",
    "from sklearn.neighbors import KNeighborsClassifier\n",
    "from sklearn.metrics import accuracy_score, mean_squared_error, precision_score\n",
    "from nltk import word_tokenize\n",
    "from nltk.stem import RSLPStemmer\n",
    "from sklearn.feature_extraction.text import CountVectorizer\n",
    "from sklearn.manifold import TSNE\n",
    "from sklearn.decomposition import PCA\n",
    "from sklearn.metrics import plot_confusion_matrix"
   ]
  },
  {
   "cell_type": "markdown",
   "metadata": {},
   "source": [
    "#### Leitura do arquivo de dados"
   ]
  },
  {
   "cell_type": "code",
   "execution_count": 2,
   "metadata": {},
   "outputs": [
    {
     "data": {
      "text/html": [
       "<div>\n",
       "<style scoped>\n",
       "    .dataframe tbody tr th:only-of-type {\n",
       "        vertical-align: middle;\n",
       "    }\n",
       "\n",
       "    .dataframe tbody tr th {\n",
       "        vertical-align: top;\n",
       "    }\n",
       "\n",
       "    .dataframe thead th {\n",
       "        text-align: right;\n",
       "    }\n",
       "</style>\n",
       "<table border=\"1\" class=\"dataframe\">\n",
       "  <thead>\n",
       "    <tr style=\"text-align: right;\">\n",
       "      <th></th>\n",
       "      <th>nome</th>\n",
       "      <th>categoria</th>\n",
       "    </tr>\n",
       "  </thead>\n",
       "  <tbody>\n",
       "    <tr>\n",
       "      <th>0</th>\n",
       "      <td>1051 SUCO DE UVA</td>\n",
       "      <td>SUCO UVA</td>\n",
       "    </tr>\n",
       "    <tr>\n",
       "      <th>1</th>\n",
       "      <td>110 PEPSI LIGHT</td>\n",
       "      <td>PEPSI</td>\n",
       "    </tr>\n",
       "    <tr>\n",
       "      <th>2</th>\n",
       "      <td>2L COCA COLA</td>\n",
       "      <td>COCA-COLA</td>\n",
       "    </tr>\n",
       "    <tr>\n",
       "      <th>3</th>\n",
       "      <td>AGUA SABORIZADA SPRITE LEMON FRESH 510ML</td>\n",
       "      <td>SPRITE</td>\n",
       "    </tr>\n",
       "    <tr>\n",
       "      <th>4</th>\n",
       "      <td>AGUA SPRITE</td>\n",
       "      <td>SPRITE</td>\n",
       "    </tr>\n",
       "  </tbody>\n",
       "</table>\n",
       "</div>"
      ],
      "text/plain": [
       "                                       nome  categoria\n",
       "0                          1051 SUCO DE UVA   SUCO UVA\n",
       "1                           110 PEPSI LIGHT      PEPSI\n",
       "2                              2L COCA COLA  COCA-COLA\n",
       "3  AGUA SABORIZADA SPRITE LEMON FRESH 510ML     SPRITE\n",
       "4                               AGUA SPRITE     SPRITE"
      ]
     },
     "execution_count": 2,
     "metadata": {},
     "output_type": "execute_result"
    }
   ],
   "source": [
    "df = pd.read_csv('../../base_a.csv')\n",
    "\n",
    "df.head()"
   ]
  },
  {
   "cell_type": "markdown",
   "metadata": {},
   "source": [
    "#### Efetua o tratamento dos dados"
   ]
  },
  {
   "cell_type": "code",
   "execution_count": 3,
   "metadata": {},
   "outputs": [
    {
     "data": {
      "text/html": [
       "<div>\n",
       "<style scoped>\n",
       "    .dataframe tbody tr th:only-of-type {\n",
       "        vertical-align: middle;\n",
       "    }\n",
       "\n",
       "    .dataframe tbody tr th {\n",
       "        vertical-align: top;\n",
       "    }\n",
       "\n",
       "    .dataframe thead th {\n",
       "        text-align: right;\n",
       "    }\n",
       "</style>\n",
       "<table border=\"1\" class=\"dataframe\">\n",
       "  <thead>\n",
       "    <tr style=\"text-align: right;\">\n",
       "      <th></th>\n",
       "      <th>nome</th>\n",
       "      <th>categoria</th>\n",
       "    </tr>\n",
       "  </thead>\n",
       "  <tbody>\n",
       "    <tr>\n",
       "      <th>0</th>\n",
       "      <td>1051 SUCO DE UVA</td>\n",
       "      <td>13</td>\n",
       "    </tr>\n",
       "    <tr>\n",
       "      <th>1</th>\n",
       "      <td>110 PEPSI LIGHT</td>\n",
       "      <td>8</td>\n",
       "    </tr>\n",
       "    <tr>\n",
       "      <th>2</th>\n",
       "      <td>2L COCA COLA</td>\n",
       "      <td>2</td>\n",
       "    </tr>\n",
       "    <tr>\n",
       "      <th>3</th>\n",
       "      <td>AGUA SABORIZADA SPRITE LEMON FRESH 510ML</td>\n",
       "      <td>10</td>\n",
       "    </tr>\n",
       "    <tr>\n",
       "      <th>4</th>\n",
       "      <td>AGUA SPRITE</td>\n",
       "      <td>10</td>\n",
       "    </tr>\n",
       "  </tbody>\n",
       "</table>\n",
       "</div>"
      ],
      "text/plain": [
       "                                       nome  categoria\n",
       "0                          1051 SUCO DE UVA         13\n",
       "1                           110 PEPSI LIGHT          8\n",
       "2                              2L COCA COLA          2\n",
       "3  AGUA SABORIZADA SPRITE LEMON FRESH 510ML         10\n",
       "4                               AGUA SPRITE         10"
      ]
     },
     "execution_count": 3,
     "metadata": {},
     "output_type": "execute_result"
    }
   ],
   "source": [
    "le = LabelEncoder()\n",
    "\n",
    "df.categoria = le.fit_transform(df.categoria)\n",
    "\n",
    "df.head()"
   ]
  },
  {
   "cell_type": "markdown",
   "metadata": {},
   "source": [
    "#### Função de tokenização"
   ]
  },
  {
   "cell_type": "code",
   "execution_count": 4,
   "metadata": {},
   "outputs": [],
   "source": [
    "stemmer = RSLPStemmer()\n",
    "\n",
    "def token(text):\n",
    "    text = re.sub('[0-9]|,|\\.|/|$|\\(|\\)|-|\\+|:|•', ' ', text)\n",
    "    txt = word_tokenize(text.lower())\n",
    "    return [stemmer.stem(word) for word in txt]"
   ]
  },
  {
   "cell_type": "markdown",
   "metadata": {},
   "source": [
    "#### Lista de Stop Words"
   ]
  },
  {
   "cell_type": "code",
   "execution_count": 5,
   "metadata": {},
   "outputs": [],
   "source": [
    "stopwords_arquivo = pd.read_csv('../../stopwords.csv')\n",
    "\n",
    "lista_stop_words = [ token(word)[0] for word in stopwords_arquivo.stopwords.values ]"
   ]
  },
  {
   "cell_type": "markdown",
   "metadata": {},
   "source": [
    "#### Separa base de treino e teste"
   ]
  },
  {
   "cell_type": "code",
   "execution_count": 6,
   "metadata": {},
   "outputs": [],
   "source": [
    "X_train,X_test,y_train,y_test = train_test_split(\n",
    "    df.nome, \n",
    "    df.categoria,\n",
    "    test_size = 0.3, \n",
    "    random_state = 42\n",
    ")"
   ]
  },
  {
   "cell_type": "markdown",
   "metadata": {},
   "source": [
    "#### Define CountVectorizer"
   ]
  },
  {
   "cell_type": "code",
   "execution_count": 7,
   "metadata": {},
   "outputs": [],
   "source": [
    "count_vectorizer = CountVectorizer(\n",
    "    tokenizer=token,\n",
    "    ngram_range=(1,2),\n",
    "    stop_words=lista_stop_words\n",
    ")"
   ]
  },
  {
   "cell_type": "markdown",
   "metadata": {},
   "source": [
    "#### Cria vocabulário"
   ]
  },
  {
   "cell_type": "code",
   "execution_count": 8,
   "metadata": {},
   "outputs": [],
   "source": [
    "X_train = count_vectorizer.fit_transform(X_train.values)"
   ]
  },
  {
   "cell_type": "markdown",
   "metadata": {},
   "source": [
    "## Etapa de treinamento\n",
    "#### Busca melhor valor para k"
   ]
  },
  {
   "cell_type": "code",
   "execution_count": 9,
   "metadata": {},
   "outputs": [
    {
     "data": {
      "image/png": "[encoded data removed]",
      "text/plain": [
       "<Figure size 432x288 with 1 Axes>"
      ]
     },
     "metadata": {
      "needs_background": "light"
     },
     "output_type": "display_data"
    }
   ],
   "source": [
    "best_rmse = 1\n",
    "k_neighbors = 0\n",
    "\n",
    "k_range = range(1, 31)\n",
    "k_scores = []\n",
    "for k in k_range:\n",
    "    model = KNeighborsClassifier(n_neighbors=k)\n",
    "    loss = abs(cross_val_score(model, X_train, y_train, cv=5, scoring='neg_mean_squared_error'))\n",
    "    k_scores.append(loss.mean())\n",
    "    if loss.mean() < best_rmse:\n",
    "        best_rmse = loss.mean()\n",
    "        k_neighbors = k\n",
    "plt.plot(k_range, k_scores)\n",
    "plt.xlabel('Valor de K')\n",
    "plt.ylabel('MSE')\n",
    "plt.show()"
   ]
  },
  {
   "cell_type": "markdown",
   "metadata": {},
   "source": [
    "#### Cria um classificador kNN"
   ]
  },
  {
   "cell_type": "code",
   "execution_count": 10,
   "metadata": {},
   "outputs": [],
   "source": [
    "knn = KNeighborsClassifier(n_neighbors = k_neighbors)"
   ]
  },
  {
   "cell_type": "markdown",
   "metadata": {},
   "source": [
    "#### Treina o classificador"
   ]
  },
  {
   "cell_type": "code",
   "execution_count": 11,
   "metadata": {},
   "outputs": [
    {
     "data": {
      "text/plain": [
       "KNeighborsClassifier(n_neighbors=2)"
      ]
     },
     "execution_count": 11,
     "metadata": {},
     "output_type": "execute_result"
    }
   ],
   "source": [
    "knn.fit(X_train, y_train)"
   ]
  },
  {
   "cell_type": "markdown",
   "metadata": {},
   "source": [
    "## Etapa de Teste\n",
    "\n",
    "#### Efetua a predição"
   ]
  },
  {
   "cell_type": "code",
   "execution_count": 12,
   "metadata": {},
   "outputs": [],
   "source": [
    "Y_Pred = knn.predict(count_vectorizer.transform(X_test).toarray())"
   ]
  },
  {
   "cell_type": "markdown",
   "metadata": {},
   "source": [
    "#### Calcula a acurácia do classificador"
   ]
  },
  {
   "cell_type": "code",
   "execution_count": 13,
   "metadata": {},
   "outputs": [
    {
     "name": "stdout",
     "output_type": "stream",
     "text": [
      "acuracia: 96.5\n",
      "precisao: 96.9\n"
     ]
    }
   ],
   "source": [
    "print('acuracia: {:.1f}'.format(accuracy_score(y_test, Y_Pred) * 100))\n",
    "print('precisao: {:.1f}'.format(precision_score(y_test, Y_Pred, average=\"weighted\") * 100))"
   ]
  },
  {
   "cell_type": "markdown",
   "metadata": {},
   "source": [
    "#### Tabela com os itens classificados errados na base de teste"
   ]
  },
  {
   "cell_type": "code",
   "execution_count": 14,
   "metadata": {},
   "outputs": [
    {
     "data": {
      "text/html": [
       "<div>\n",
       "<style scoped>\n",
       "    .dataframe tbody tr th:only-of-type {\n",
       "        vertical-align: middle;\n",
       "    }\n",
       "\n",
       "    .dataframe tbody tr th {\n",
       "        vertical-align: top;\n",
       "    }\n",
       "\n",
       "    .dataframe thead th {\n",
       "        text-align: right;\n",
       "    }\n",
       "</style>\n",
       "<table border=\"1\" class=\"dataframe\">\n",
       "  <thead>\n",
       "    <tr style=\"text-align: right;\">\n",
       "      <th></th>\n",
       "      <th>Nome</th>\n",
       "      <th>Categoria Original</th>\n",
       "      <th>Pred</th>\n",
       "    </tr>\n",
       "  </thead>\n",
       "  <tbody>\n",
       "    <tr>\n",
       "      <th>0</th>\n",
       "      <td>SUCO AURORA INT UVA BCO 1.5L</td>\n",
       "      <td>SUCO UVA INTEGRAL</td>\n",
       "      <td>SUCO UVA</td>\n",
       "    </tr>\n",
       "    <tr>\n",
       "      <th>1</th>\n",
       "      <td>SUCO NAT ONE UVA MACA</td>\n",
       "      <td>SUCO UVA</td>\n",
       "      <td>SUCO LARANJA</td>\n",
       "    </tr>\n",
       "    <tr>\n",
       "      <th>2</th>\n",
       "      <td>SUCO CAMPO LARGO GOL LARANJA 250ML</td>\n",
       "      <td>SUCO LARANJA</td>\n",
       "      <td>SUCO UVA</td>\n",
       "    </tr>\n",
       "    <tr>\n",
       "      <th>3</th>\n",
       "      <td>REF LATA FANTA GUARANA 220ML</td>\n",
       "      <td>GUARANA ANTARTICA</td>\n",
       "      <td>FANTA</td>\n",
       "    </tr>\n",
       "    <tr>\n",
       "      <th>4</th>\n",
       "      <td>GV SUCO DE UVA INTEG</td>\n",
       "      <td>SUCO UVA INTEGRAL</td>\n",
       "      <td>SUCO UVA</td>\n",
       "    </tr>\n",
       "    <tr>\n",
       "      <th>5</th>\n",
       "      <td>SUCO KAPO LARANJA INF 200ML</td>\n",
       "      <td>SUCO LARANJA INTEGRAL</td>\n",
       "      <td>SUCO LARANJA</td>\n",
       "    </tr>\n",
       "    <tr>\n",
       "      <th>6</th>\n",
       "      <td>REFRIG COCA COLA SPRITE 2L LV PG</td>\n",
       "      <td>SPRITE</td>\n",
       "      <td>COCA-COLA</td>\n",
       "    </tr>\n",
       "    <tr>\n",
       "      <th>7</th>\n",
       "      <td>SUCO SALTON UVA TINTO INTEGRAL GFA 1.</td>\n",
       "      <td>SUCO UVA INTEGRAL</td>\n",
       "      <td>SUCO UVA</td>\n",
       "    </tr>\n",
       "    <tr>\n",
       "      <th>8</th>\n",
       "      <td>SUCO DE LARANJA VIVA FELIZ 330ML INTEGRA</td>\n",
       "      <td>SUCO LARANJA INTEGRAL</td>\n",
       "      <td>SUCO LARANJA</td>\n",
       "    </tr>\n",
       "    <tr>\n",
       "      <th>9</th>\n",
       "      <td>SUCO PRATS LARANJA INTG 330ML</td>\n",
       "      <td>SUCO LARANJA INTEGRAL</td>\n",
       "      <td>SUCO LARANJA</td>\n",
       "    </tr>\n",
       "    <tr>\n",
       "      <th>10</th>\n",
       "      <td>SUCO E SO INTEGRAL UVA</td>\n",
       "      <td>SUCO UVA INTEGRAL</td>\n",
       "      <td>SUCO UVA</td>\n",
       "    </tr>\n",
       "    <tr>\n",
       "      <th>11</th>\n",
       "      <td>SUCO DE UVA TINTO INTEGRAL CAMPO LARGO 1 350L</td>\n",
       "      <td>SUCO UVA INTEGRAL</td>\n",
       "      <td>SUCO UVA</td>\n",
       "    </tr>\n",
       "    <tr>\n",
       "      <th>12</th>\n",
       "      <td>REFRIG COCA COLA ZER</td>\n",
       "      <td>COCA-COLA</td>\n",
       "      <td>COCA-COLA ZERO</td>\n",
       "    </tr>\n",
       "    <tr>\n",
       "      <th>13</th>\n",
       "      <td>SUCO ALIANCA UVA BRANCO INTEGRAL 450ML</td>\n",
       "      <td>SUCO UVA INTEGRAL</td>\n",
       "      <td>SUCO UVA</td>\n",
       "    </tr>\n",
       "    <tr>\n",
       "      <th>14</th>\n",
       "      <td>SUCO INTEG UVA 300 ML NOVO CITRUS</td>\n",
       "      <td>SUCO UVA INTEGRAL</td>\n",
       "      <td>SUCO UVA</td>\n",
       "    </tr>\n",
       "    <tr>\n",
       "      <th>15</th>\n",
       "      <td>SUCO UVA PRIMA DUO INTEGRAL</td>\n",
       "      <td>SUCO UVA INTEGRAL</td>\n",
       "      <td>SUCO UVA</td>\n",
       "    </tr>\n",
       "    <tr>\n",
       "      <th>16</th>\n",
       "      <td>SUCO TANG UVA INTENSA 25G</td>\n",
       "      <td>SUCO UVA INTEGRAL</td>\n",
       "      <td>SUCO UVA</td>\n",
       "    </tr>\n",
       "    <tr>\n",
       "      <th>17</th>\n",
       "      <td>SUCO PRATS UVA INT 900</td>\n",
       "      <td>SUCO UVA INTEGRAL</td>\n",
       "      <td>SUCO UVA</td>\n",
       "    </tr>\n",
       "    <tr>\n",
       "      <th>18</th>\n",
       "      <td>SUCO DE UVA INTEG</td>\n",
       "      <td>SUCO UVA INTEGRAL</td>\n",
       "      <td>SUCO UVA</td>\n",
       "    </tr>\n",
       "    <tr>\n",
       "      <th>19</th>\n",
       "      <td>SUCO SALTON UVA TINTO INTEGRAL GFA 50</td>\n",
       "      <td>SUCO UVA INTEGRAL</td>\n",
       "      <td>SUCO UVA</td>\n",
       "    </tr>\n",
       "    <tr>\n",
       "      <th>20</th>\n",
       "      <td>BELLA VITTA SUCO UVA TINTO INTEGRAL 1 5L</td>\n",
       "      <td>SUCO UVA INTEGRAL</td>\n",
       "      <td>SUCO UVA</td>\n",
       "    </tr>\n",
       "    <tr>\n",
       "      <th>21</th>\n",
       "      <td>SUCO DE UVA INT E</td>\n",
       "      <td>SUCO UVA INTEGRAL</td>\n",
       "      <td>SUCO UVA</td>\n",
       "    </tr>\n",
       "    <tr>\n",
       "      <th>22</th>\n",
       "      <td>SUCO ALIANCA UVA BCO INTEGRAL GFA 1L</td>\n",
       "      <td>SUCO UVA INTEGRAL</td>\n",
       "      <td>SUCO UVA</td>\n",
       "    </tr>\n",
       "    <tr>\n",
       "      <th>23</th>\n",
       "      <td>SUCO UVA NAT ONE 900</td>\n",
       "      <td>SUCO UVA</td>\n",
       "      <td>SUCO LARANJA</td>\n",
       "    </tr>\n",
       "    <tr>\n",
       "      <th>24</th>\n",
       "      <td>BEB SUCO UVA AURORA INTEG TINTO 1 5L</td>\n",
       "      <td>SUCO UVA INTEGRAL</td>\n",
       "      <td>SUCO UVA</td>\n",
       "    </tr>\n",
       "    <tr>\n",
       "      <th>25</th>\n",
       "      <td>SUCO PRATS LARANJA INTG 900ML</td>\n",
       "      <td>SUCO LARANJA INTEGRAL</td>\n",
       "      <td>SUCO LARANJA</td>\n",
       "    </tr>\n",
       "    <tr>\n",
       "      <th>26</th>\n",
       "      <td>SUCO PERINI UVA TINTO INTEGRAL 300ML</td>\n",
       "      <td>SUCO UVA INTEGRAL</td>\n",
       "      <td>SUCO UVA</td>\n",
       "    </tr>\n",
       "    <tr>\n",
       "      <th>27</th>\n",
       "      <td>SUCO DOM ELISEO INTEG UVA TINTO 1L GF</td>\n",
       "      <td>SUCO UVA INTEGRAL</td>\n",
       "      <td>SUCO UVA</td>\n",
       "    </tr>\n",
       "    <tr>\n",
       "      <th>28</th>\n",
       "      <td>SUCO E SO DE UVA TINTO INTEGRAL</td>\n",
       "      <td>SUCO UVA INTEGRAL</td>\n",
       "      <td>SUCO UVA</td>\n",
       "    </tr>\n",
       "    <tr>\n",
       "      <th>29</th>\n",
       "      <td>SUCO CASA MADEIRA UVA INTEGRAL GFA 50</td>\n",
       "      <td>SUCO UVA INTEGRAL</td>\n",
       "      <td>SUCO UVA</td>\n",
       "    </tr>\n",
       "    <tr>\n",
       "      <th>30</th>\n",
       "      <td>SUCO NATURAL ONE INTEGRAL LARANJA 900ML</td>\n",
       "      <td>SUCO LARANJA INTEGRAL</td>\n",
       "      <td>SUCO LARANJA</td>\n",
       "    </tr>\n",
       "    <tr>\n",
       "      <th>31</th>\n",
       "      <td>SUCO CASA PERINI INTEG UVA 1L GF</td>\n",
       "      <td>SUCO UVA INTEGRAL</td>\n",
       "      <td>SUCO UVA</td>\n",
       "    </tr>\n",
       "    <tr>\n",
       "      <th>32</th>\n",
       "      <td>SUCO CAMPO LARGO LARANJA INT RESF 900</td>\n",
       "      <td>SUCO LARANJA INTEGRAL</td>\n",
       "      <td>SUCO LARANJA</td>\n",
       "    </tr>\n",
       "    <tr>\n",
       "      <th>33</th>\n",
       "      <td>SUCO E SO LARANJA</td>\n",
       "      <td>SUCO LARANJA</td>\n",
       "      <td>SUCO LARANJA INTEGRAL</td>\n",
       "    </tr>\n",
       "    <tr>\n",
       "      <th>34</th>\n",
       "      <td>REF LATA FANTA GUARANA 200ML PET</td>\n",
       "      <td>GUARANA ANTARTICA</td>\n",
       "      <td>FANTA</td>\n",
       "    </tr>\n",
       "    <tr>\n",
       "      <th>35</th>\n",
       "      <td>SUCO FRAMB E UVAS BRAN INTEG NOBRE COLHE</td>\n",
       "      <td>SUCO UVA INTEGRAL</td>\n",
       "      <td>SUCO UVA</td>\n",
       "    </tr>\n",
       "    <tr>\n",
       "      <th>36</th>\n",
       "      <td>SUCO ALIANCA UVA TINTO INTEG 450ML</td>\n",
       "      <td>SUCO UVA INTEGRAL</td>\n",
       "      <td>SUCO UVA</td>\n",
       "    </tr>\n",
       "  </tbody>\n",
       "</table>\n",
       "</div>"
      ],
      "text/plain": [
       "                                             Nome     Categoria Original  \\\n",
       "0                    SUCO AURORA INT UVA BCO 1.5L      SUCO UVA INTEGRAL   \n",
       "1                           SUCO NAT ONE UVA MACA               SUCO UVA   \n",
       "2              SUCO CAMPO LARGO GOL LARANJA 250ML           SUCO LARANJA   \n",
       "3                    REF LATA FANTA GUARANA 220ML      GUARANA ANTARTICA   \n",
       "4                            GV SUCO DE UVA INTEG      SUCO UVA INTEGRAL   \n",
       "5                     SUCO KAPO LARANJA INF 200ML  SUCO LARANJA INTEGRAL   \n",
       "6                REFRIG COCA COLA SPRITE 2L LV PG                 SPRITE   \n",
       "7           SUCO SALTON UVA TINTO INTEGRAL GFA 1.      SUCO UVA INTEGRAL   \n",
       "8        SUCO DE LARANJA VIVA FELIZ 330ML INTEGRA  SUCO LARANJA INTEGRAL   \n",
       "9                   SUCO PRATS LARANJA INTG 330ML  SUCO LARANJA INTEGRAL   \n",
       "10                         SUCO E SO INTEGRAL UVA      SUCO UVA INTEGRAL   \n",
       "11  SUCO DE UVA TINTO INTEGRAL CAMPO LARGO 1 350L      SUCO UVA INTEGRAL   \n",
       "12                           REFRIG COCA COLA ZER              COCA-COLA   \n",
       "13         SUCO ALIANCA UVA BRANCO INTEGRAL 450ML      SUCO UVA INTEGRAL   \n",
       "14              SUCO INTEG UVA 300 ML NOVO CITRUS      SUCO UVA INTEGRAL   \n",
       "15                    SUCO UVA PRIMA DUO INTEGRAL      SUCO UVA INTEGRAL   \n",
       "16                      SUCO TANG UVA INTENSA 25G      SUCO UVA INTEGRAL   \n",
       "17                         SUCO PRATS UVA INT 900      SUCO UVA INTEGRAL   \n",
       "18                              SUCO DE UVA INTEG      SUCO UVA INTEGRAL   \n",
       "19          SUCO SALTON UVA TINTO INTEGRAL GFA 50      SUCO UVA INTEGRAL   \n",
       "20       BELLA VITTA SUCO UVA TINTO INTEGRAL 1 5L      SUCO UVA INTEGRAL   \n",
       "21                              SUCO DE UVA INT E      SUCO UVA INTEGRAL   \n",
       "22           SUCO ALIANCA UVA BCO INTEGRAL GFA 1L      SUCO UVA INTEGRAL   \n",
       "23                           SUCO UVA NAT ONE 900               SUCO UVA   \n",
       "24           BEB SUCO UVA AURORA INTEG TINTO 1 5L      SUCO UVA INTEGRAL   \n",
       "25                  SUCO PRATS LARANJA INTG 900ML  SUCO LARANJA INTEGRAL   \n",
       "26           SUCO PERINI UVA TINTO INTEGRAL 300ML      SUCO UVA INTEGRAL   \n",
       "27          SUCO DOM ELISEO INTEG UVA TINTO 1L GF      SUCO UVA INTEGRAL   \n",
       "28                SUCO E SO DE UVA TINTO INTEGRAL      SUCO UVA INTEGRAL   \n",
       "29          SUCO CASA MADEIRA UVA INTEGRAL GFA 50      SUCO UVA INTEGRAL   \n",
       "30        SUCO NATURAL ONE INTEGRAL LARANJA 900ML  SUCO LARANJA INTEGRAL   \n",
       "31               SUCO CASA PERINI INTEG UVA 1L GF      SUCO UVA INTEGRAL   \n",
       "32          SUCO CAMPO LARGO LARANJA INT RESF 900  SUCO LARANJA INTEGRAL   \n",
       "33                              SUCO E SO LARANJA           SUCO LARANJA   \n",
       "34               REF LATA FANTA GUARANA 200ML PET      GUARANA ANTARTICA   \n",
       "35       SUCO FRAMB E UVAS BRAN INTEG NOBRE COLHE      SUCO UVA INTEGRAL   \n",
       "36             SUCO ALIANCA UVA TINTO INTEG 450ML      SUCO UVA INTEGRAL   \n",
       "\n",
       "                     Pred  \n",
       "0                SUCO UVA  \n",
       "1            SUCO LARANJA  \n",
       "2                SUCO UVA  \n",
       "3                   FANTA  \n",
       "4                SUCO UVA  \n",
       "5            SUCO LARANJA  \n",
       "6               COCA-COLA  \n",
       "7                SUCO UVA  \n",
       "8            SUCO LARANJA  \n",
       "9            SUCO LARANJA  \n",
       "10               SUCO UVA  \n",
       "11               SUCO UVA  \n",
       "12         COCA-COLA ZERO  \n",
       "13               SUCO UVA  \n",
       "14               SUCO UVA  \n",
       "15               SUCO UVA  \n",
       "16               SUCO UVA  \n",
       "17               SUCO UVA  \n",
       "18               SUCO UVA  \n",
       "19               SUCO UVA  \n",
       "20               SUCO UVA  \n",
       "21               SUCO UVA  \n",
       "22               SUCO UVA  \n",
       "23           SUCO LARANJA  \n",
       "24               SUCO UVA  \n",
       "25           SUCO LARANJA  \n",
       "26               SUCO UVA  \n",
       "27               SUCO UVA  \n",
       "28               SUCO UVA  \n",
       "29               SUCO UVA  \n",
       "30           SUCO LARANJA  \n",
       "31               SUCO UVA  \n",
       "32           SUCO LARANJA  \n",
       "33  SUCO LARANJA INTEGRAL  \n",
       "34                  FANTA  \n",
       "35               SUCO UVA  \n",
       "36               SUCO UVA  "
      ]
     },
     "execution_count": 14,
     "metadata": {},
     "output_type": "execute_result"
    }
   ],
   "source": [
    "d = []\n",
    "\n",
    "for i in range(len(X_test)):\n",
    "    au = count_vectorizer.transform([X_test.values[i]])\n",
    "    pred = knn.predict(au.toarray())\n",
    "    if (y_test.values[i] != pred[0]):\n",
    "        d.append(\n",
    "            [\n",
    "                X_test.values[i],\n",
    "                le.inverse_transform([y_test.values[i]])[0],\n",
    "                le.inverse_transform(pred)[0]\n",
    "            ]\n",
    "        )\n",
    "\n",
    "df_error = pd.DataFrame(data=d,columns=['Nome','Categoria Original','Pred'])\n",
    "df_error"
   ]
  },
  {
   "cell_type": "code",
   "execution_count": 15,
   "metadata": {},
   "outputs": [
    {
     "data": {
      "image/png": "[encoded data removed]",
      "text/plain": [
       "<Figure size 576x576 with 1 Axes>"
      ]
     },
     "metadata": {
      "needs_background": "light"
     },
     "output_type": "display_data"
    }
   ],
   "source": [
    "model = TSNE(n_components=2, init='pca', random_state=0)\n",
    "transformed = model.fit_transform(X_train.todense())\n",
    "\n",
    "fig, ax = plt.subplots(figsize=(8,8))\n",
    "\n",
    "for g in np.unique(y_train):\n",
    "    ix = np.where(y_train == g)\n",
    "    ax.scatter(transformed[:,0][ix], transformed[:,1][ix], c=[plt.cm.tab20b(float(g)/15)], s=20, label = le.inverse_transform([g])[0])\n",
    "\n",
    "plt.legend(loc='lower left',fontsize=7)\n",
    "plt.axhline(color='b')\n",
    "plt.axvline(color='b')\n",
    "plt.show()"
   ]
  },
  {
   "cell_type": "markdown",
   "metadata": {},
   "source": [
    "#### Matriz de Confusão"
   ]
  },
  {
   "cell_type": "code",
   "execution_count": 16,
   "metadata": {},
   "outputs": [
    {
     "data": {
      "text/plain": [
       "<sklearn.metrics._plot.confusion_matrix.ConfusionMatrixDisplay at 0x1254fb350>"
      ]
     },
     "execution_count": 16,
     "metadata": {},
     "output_type": "execute_result"
    },
    {
     "data": {
      "image/png": "[encoded data removed]",
      "text/plain": [
       "<Figure size 1440x1440 with 2 Axes>"
      ]
     },
     "metadata": {
      "needs_background": "light"
     },
     "output_type": "display_data"
    }
   ],
   "source": [
    "fig, ax = plt.subplots(figsize=(20, 20))\n",
    "plot_confusion_matrix(\n",
    "    knn,\n",
    "    count_vectorizer.transform(X_test).toarray(),\n",
    "    y_test,\n",
    "    display_labels=np.unique(le.inverse_transform(y_test)),\n",
    "    cmap=plt.cm.Blues,\n",
    "    normalize='true',\n",
    "    ax=ax,\n",
    "    xticks_rotation='vertical'\n",
    ")"
   ]
  },
  {
   "cell_type": "code",
   "execution_count": null,
   "metadata": {},
   "outputs": [],
   "source": []
  }
 ],
 "metadata": {
  "kernelspec": {
   "display_name": "Python 3",
   "language": "python",
   "name": "python3"
  },
  "language_info": {
   "codemirror_mode": {
    "name": "ipython",
    "version": 3
   },
   "file_extension": ".py",
   "mimetype": "text/x-python",
   "name": "python",
   "nbconvert_exporter": "python",
   "pygments_lexer": "ipython3",
   "version": "3.7.7"
  }
 },
 "nbformat": 4,
 "nbformat_minor": 2
}

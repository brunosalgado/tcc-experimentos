{
 "cells": [
  {
   "cell_type": "markdown",
   "metadata": {},
   "source": [
    "# K-Nearest Neighbors\n",
    "### Modelo 07\n",
    "- TfidfVectorizer\n",
    "- Base A\n",
    "\n",
    "\n",
    "#### Imports necessarios para funcionamento da aplicacao"
   ]
  },
  {
   "cell_type": "code",
   "execution_count": 1,
   "metadata": {},
   "outputs": [],
   "source": [
    "import re\n",
    "import random\n",
    "import numpy as np\n",
    "import pandas as pd\n",
    "import matplotlib.pyplot as plt\n",
    "from math import sqrt\n",
    "from sklearn.preprocessing import LabelEncoder\n",
    "from sklearn.model_selection import train_test_split\n",
    "from sklearn.neighbors import KNeighborsClassifier\n",
    "from sklearn.metrics import accuracy_score, mean_squared_error, precision_score\n",
    "from nltk import word_tokenize\n",
    "from nltk.stem import RSLPStemmer\n",
    "from sklearn.feature_extraction.text import TfidfVectorizer\n",
    "from sklearn.manifold import TSNE\n",
    "from sklearn.decomposition import PCA\n",
    "from sklearn.metrics import plot_confusion_matrix"
   ]
  },
  {
   "cell_type": "markdown",
   "metadata": {},
   "source": [
    "#### Leitura do arquivo de dados"
   ]
  },
  {
   "cell_type": "code",
   "execution_count": 2,
   "metadata": {},
   "outputs": [
    {
     "data": {
      "text/html": [
       "<div>\n",
       "<style scoped>\n",
       "    .dataframe tbody tr th:only-of-type {\n",
       "        vertical-align: middle;\n",
       "    }\n",
       "\n",
       "    .dataframe tbody tr th {\n",
       "        vertical-align: top;\n",
       "    }\n",
       "\n",
       "    .dataframe thead th {\n",
       "        text-align: right;\n",
       "    }\n",
       "</style>\n",
       "<table border=\"1\" class=\"dataframe\">\n",
       "  <thead>\n",
       "    <tr style=\"text-align: right;\">\n",
       "      <th></th>\n",
       "      <th>nome</th>\n",
       "      <th>categoria</th>\n",
       "    </tr>\n",
       "  </thead>\n",
       "  <tbody>\n",
       "    <tr>\n",
       "      <th>0</th>\n",
       "      <td>1051 SUCO DE UVA</td>\n",
       "      <td>SUCO UVA</td>\n",
       "    </tr>\n",
       "    <tr>\n",
       "      <th>1</th>\n",
       "      <td>110 PEPSI LIGHT</td>\n",
       "      <td>PEPSI</td>\n",
       "    </tr>\n",
       "    <tr>\n",
       "      <th>2</th>\n",
       "      <td>2L COCA COLA</td>\n",
       "      <td>COCA-COLA</td>\n",
       "    </tr>\n",
       "    <tr>\n",
       "      <th>3</th>\n",
       "      <td>AGUA SABORIZADA SPRITE LEMON FRESH 510ML</td>\n",
       "      <td>SPRITE</td>\n",
       "    </tr>\n",
       "    <tr>\n",
       "      <th>4</th>\n",
       "      <td>AGUA SPRITE</td>\n",
       "      <td>SPRITE</td>\n",
       "    </tr>\n",
       "  </tbody>\n",
       "</table>\n",
       "</div>"
      ],
      "text/plain": [
       "                                       nome  categoria\n",
       "0                          1051 SUCO DE UVA   SUCO UVA\n",
       "1                           110 PEPSI LIGHT      PEPSI\n",
       "2                              2L COCA COLA  COCA-COLA\n",
       "3  AGUA SABORIZADA SPRITE LEMON FRESH 510ML     SPRITE\n",
       "4                               AGUA SPRITE     SPRITE"
      ]
     },
     "execution_count": 2,
     "metadata": {},
     "output_type": "execute_result"
    }
   ],
   "source": [
    "df = pd.read_csv('../../base_a.csv')\n",
    "\n",
    "df.head()"
   ]
  },
  {
   "cell_type": "markdown",
   "metadata": {},
   "source": [
    "#### Efetua o tratamento dos dados"
   ]
  },
  {
   "cell_type": "code",
   "execution_count": 3,
   "metadata": {},
   "outputs": [
    {
     "data": {
      "text/html": [
       "<div>\n",
       "<style scoped>\n",
       "    .dataframe tbody tr th:only-of-type {\n",
       "        vertical-align: middle;\n",
       "    }\n",
       "\n",
       "    .dataframe tbody tr th {\n",
       "        vertical-align: top;\n",
       "    }\n",
       "\n",
       "    .dataframe thead th {\n",
       "        text-align: right;\n",
       "    }\n",
       "</style>\n",
       "<table border=\"1\" class=\"dataframe\">\n",
       "  <thead>\n",
       "    <tr style=\"text-align: right;\">\n",
       "      <th></th>\n",
       "      <th>nome</th>\n",
       "      <th>categoria</th>\n",
       "    </tr>\n",
       "  </thead>\n",
       "  <tbody>\n",
       "    <tr>\n",
       "      <th>0</th>\n",
       "      <td>1051 SUCO DE UVA</td>\n",
       "      <td>13</td>\n",
       "    </tr>\n",
       "    <tr>\n",
       "      <th>1</th>\n",
       "      <td>110 PEPSI LIGHT</td>\n",
       "      <td>8</td>\n",
       "    </tr>\n",
       "    <tr>\n",
       "      <th>2</th>\n",
       "      <td>2L COCA COLA</td>\n",
       "      <td>2</td>\n",
       "    </tr>\n",
       "    <tr>\n",
       "      <th>3</th>\n",
       "      <td>AGUA SABORIZADA SPRITE LEMON FRESH 510ML</td>\n",
       "      <td>10</td>\n",
       "    </tr>\n",
       "    <tr>\n",
       "      <th>4</th>\n",
       "      <td>AGUA SPRITE</td>\n",
       "      <td>10</td>\n",
       "    </tr>\n",
       "  </tbody>\n",
       "</table>\n",
       "</div>"
      ],
      "text/plain": [
       "                                       nome  categoria\n",
       "0                          1051 SUCO DE UVA         13\n",
       "1                           110 PEPSI LIGHT          8\n",
       "2                              2L COCA COLA          2\n",
       "3  AGUA SABORIZADA SPRITE LEMON FRESH 510ML         10\n",
       "4                               AGUA SPRITE         10"
      ]
     },
     "execution_count": 3,
     "metadata": {},
     "output_type": "execute_result"
    }
   ],
   "source": [
    "le = LabelEncoder()\n",
    "\n",
    "df.categoria = le.fit_transform(df.categoria)\n",
    "\n",
    "df.head()"
   ]
  },
  {
   "cell_type": "markdown",
   "metadata": {},
   "source": [
    "#### Função de tokenização"
   ]
  },
  {
   "cell_type": "code",
   "execution_count": 4,
   "metadata": {},
   "outputs": [],
   "source": [
    "stemmer = RSLPStemmer()\n",
    "\n",
    "def token(text):\n",
    "    text = re.sub('[0-9]|,|\\.|/|$|\\(|\\)|-|\\+|:|•', ' ', text)\n",
    "    txt = word_tokenize(text.lower())\n",
    "    return [stemmer.stem(word) for word in txt]"
   ]
  },
  {
   "cell_type": "markdown",
   "metadata": {},
   "source": [
    "#### Lista de Stop Words"
   ]
  },
  {
   "cell_type": "code",
   "execution_count": 5,
   "metadata": {},
   "outputs": [],
   "source": [
    "stopwords_arquivo = pd.read_csv('../../stopwords.csv')\n",
    "\n",
    "lista_stop_words = [ token(word)[0] for word in stopwords_arquivo.stopwords.values ]"
   ]
  },
  {
   "cell_type": "markdown",
   "metadata": {},
   "source": [
    "#### Separa base de treino e teste"
   ]
  },
  {
   "cell_type": "code",
   "execution_count": 6,
   "metadata": {},
   "outputs": [],
   "source": [
    "X_train,X_test,y_train,y_test = train_test_split(\n",
    "    df.nome, \n",
    "    df.categoria,\n",
    "    test_size = 0.3, \n",
    "    random_state = 42\n",
    ")"
   ]
  },
  {
   "cell_type": "markdown",
   "metadata": {},
   "source": [
    "#### Define TfidfVectorizer"
   ]
  },
  {
   "cell_type": "code",
   "execution_count": 7,
   "metadata": {},
   "outputs": [],
   "source": [
    "tfidf_vectorizer = TfidfVectorizer(\n",
    "    tokenizer=token,\n",
    "    ngram_range=(1,1),\n",
    "    stop_words=lista_stop_words\n",
    ")"
   ]
  },
  {
   "cell_type": "markdown",
   "metadata": {},
   "source": [
    "#### Cria vocabulário"
   ]
  },
  {
   "cell_type": "code",
   "execution_count": 8,
   "metadata": {},
   "outputs": [],
   "source": [
    "X_train = tfidf_vectorizer.fit_transform(X_train.values)"
   ]
  },
  {
   "cell_type": "markdown",
   "metadata": {},
   "source": [
    "## Etapa de treinamento\n",
    "#### Busca melhor valor para k"
   ]
  },
  {
   "cell_type": "code",
   "execution_count": 9,
   "metadata": {},
   "outputs": [
    {
     "name": "stdout",
     "output_type": "stream",
     "text": [
      "RMSE value for k = 40  is: 0.6657270373530813\n"
     ]
    },
    {
     "data": {
      "text/plain": [
       "<matplotlib.axes._subplots.AxesSubplot at 0x1185565d0>"
      ]
     },
     "execution_count": 9,
     "metadata": {},
     "output_type": "execute_result"
    },
    {
     "data": {
      "image/png": "[encoded data removed]",
      "text/plain": [
       "<Figure size 432x288 with 1 Axes>"
      ]
     },
     "metadata": {
      "needs_background": "light"
     },
     "output_type": "display_data"
    }
   ],
   "source": [
    "rmse_val = [] #to store rmse values for different k\n",
    "best_rmse = 1\n",
    "k_neighbors = 0\n",
    "for K in range(40):\n",
    "    K = K+1\n",
    "    model = KNeighborsClassifier(n_neighbors = K)\n",
    "\n",
    "    model.fit(X_train, y_train)  #fit the model\n",
    "    pred=model.predict(tfidf_vectorizer.transform(X_test).toarray()) #make prediction on test set\n",
    "    error = sqrt(mean_squared_error(y_test,pred)) #calculate rmse\n",
    "    if error < best_rmse:\n",
    "        best_rmse = error\n",
    "        k_neighbors = K\n",
    "    rmse_val.append(error) #store rmse values\n",
    "    \n",
    "print('RMSE value for k =', k_neighbors ,' is:', best_rmse)\n",
    "curve = pd.DataFrame(rmse_val) #elbow curve \n",
    "curve.plot(figsize=(6,4))"
   ]
  },
  {
   "cell_type": "markdown",
   "metadata": {},
   "source": [
    "#### Cria um classificador kNN"
   ]
  },
  {
   "cell_type": "code",
   "execution_count": 10,
   "metadata": {},
   "outputs": [],
   "source": [
    "knn = KNeighborsClassifier(n_neighbors = k_neighbors)"
   ]
  },
  {
   "cell_type": "markdown",
   "metadata": {},
   "source": [
    "#### Treina o classificador"
   ]
  },
  {
   "cell_type": "code",
   "execution_count": 11,
   "metadata": {},
   "outputs": [
    {
     "data": {
      "text/plain": [
       "KNeighborsClassifier(n_neighbors=40)"
      ]
     },
     "execution_count": 11,
     "metadata": {},
     "output_type": "execute_result"
    }
   ],
   "source": [
    "knn.fit(X_train, y_train)"
   ]
  },
  {
   "cell_type": "markdown",
   "metadata": {},
   "source": [
    "## Etapa de Teste\n",
    "\n",
    "#### Efetua a predição"
   ]
  },
  {
   "cell_type": "code",
   "execution_count": 12,
   "metadata": {},
   "outputs": [],
   "source": [
    "Y_Pred = knn.predict(tfidf_vectorizer.transform(X_test).toarray())"
   ]
  },
  {
   "cell_type": "markdown",
   "metadata": {},
   "source": [
    "#### Calcula a acurácia do classificador"
   ]
  },
  {
   "cell_type": "code",
   "execution_count": 13,
   "metadata": {},
   "outputs": [
    {
     "name": "stdout",
     "output_type": "stream",
     "text": [
      "acuracia: 94.6\n",
      "precisao: 95.0\n"
     ]
    }
   ],
   "source": [
    "print('acuracia: {:.1f}'.format(accuracy_score(y_test, Y_Pred) * 100))\n",
    "print('precisao: {:.1f}'.format(precision_score(y_test, Y_Pred, average=\"weighted\") * 100))"
   ]
  },
  {
   "cell_type": "markdown",
   "metadata": {},
   "source": [
    "#### Tabela com os itens classificados errados na base de teste"
   ]
  },
  {
   "cell_type": "code",
   "execution_count": 14,
   "metadata": {},
   "outputs": [
    {
     "data": {
      "text/html": [
       "<div>\n",
       "<style scoped>\n",
       "    .dataframe tbody tr th:only-of-type {\n",
       "        vertical-align: middle;\n",
       "    }\n",
       "\n",
       "    .dataframe tbody tr th {\n",
       "        vertical-align: top;\n",
       "    }\n",
       "\n",
       "    .dataframe thead th {\n",
       "        text-align: right;\n",
       "    }\n",
       "</style>\n",
       "<table border=\"1\" class=\"dataframe\">\n",
       "  <thead>\n",
       "    <tr style=\"text-align: right;\">\n",
       "      <th></th>\n",
       "      <th>Nome</th>\n",
       "      <th>Categoria Original</th>\n",
       "      <th>Pred</th>\n",
       "    </tr>\n",
       "  </thead>\n",
       "  <tbody>\n",
       "    <tr>\n",
       "      <th>0</th>\n",
       "      <td>SUCO DE LARANJA INTEGRAL PRATS 900ML</td>\n",
       "      <td>SUCO LARANJA INTEGRAL</td>\n",
       "      <td>SUCO LARANJA</td>\n",
       "    </tr>\n",
       "    <tr>\n",
       "      <th>1</th>\n",
       "      <td>SUCO NATURAL ONE UVA E MACA 300ML</td>\n",
       "      <td>SUCO UVA</td>\n",
       "      <td>SUCO LARANJA</td>\n",
       "    </tr>\n",
       "    <tr>\n",
       "      <th>2</th>\n",
       "      <td>SUCO NATURAL ONE AMBIENTE UVA 180ML</td>\n",
       "      <td>SUCO UVA</td>\n",
       "      <td>SUCO LARANJA</td>\n",
       "    </tr>\n",
       "    <tr>\n",
       "      <th>3</th>\n",
       "      <td>SUCO NAT ONE UVA MACA</td>\n",
       "      <td>SUCO UVA</td>\n",
       "      <td>SUCO LARANJA</td>\n",
       "    </tr>\n",
       "    <tr>\n",
       "      <th>4</th>\n",
       "      <td>SUCO LARANJA CAMPO LARGO 900ML</td>\n",
       "      <td>SUCO LARANJA</td>\n",
       "      <td>SUCO UVA</td>\n",
       "    </tr>\n",
       "    <tr>\n",
       "      <th>5</th>\n",
       "      <td>SUCO CAMPO LARGO LARANJA 1.35 L</td>\n",
       "      <td>SUCO LARANJA</td>\n",
       "      <td>SUCO UVA</td>\n",
       "    </tr>\n",
       "    <tr>\n",
       "      <th>6</th>\n",
       "      <td>SUCO CAMPO LARGO GOL LARANJA 250ML</td>\n",
       "      <td>SUCO LARANJA</td>\n",
       "      <td>SUCO UVA</td>\n",
       "    </tr>\n",
       "    <tr>\n",
       "      <th>7</th>\n",
       "      <td>SUCO DEL VALLE KAPO LARANJA 20</td>\n",
       "      <td>SUCO LARANJA</td>\n",
       "      <td>SUCO UVA</td>\n",
       "    </tr>\n",
       "    <tr>\n",
       "      <th>8</th>\n",
       "      <td>SUCO LARANJA 1L DEL VALLE</td>\n",
       "      <td>SUCO LARANJA</td>\n",
       "      <td>SUCO UVA</td>\n",
       "    </tr>\n",
       "    <tr>\n",
       "      <th>9</th>\n",
       "      <td>REF CINI GUARANA 2L</td>\n",
       "      <td>CINI REFRIGERANTE</td>\n",
       "      <td>GUARANA ANTARTICA</td>\n",
       "    </tr>\n",
       "    <tr>\n",
       "      <th>10</th>\n",
       "      <td>REF LATA FANTA GUARANA 220ML</td>\n",
       "      <td>GUARANA ANTARTICA</td>\n",
       "      <td>FANTA</td>\n",
       "    </tr>\n",
       "    <tr>\n",
       "      <th>11</th>\n",
       "      <td>SUCO SU FRESH UVA 330ML</td>\n",
       "      <td>SUCO UVA</td>\n",
       "      <td>SPRITE</td>\n",
       "    </tr>\n",
       "    <tr>\n",
       "      <th>12</th>\n",
       "      <td>GV SUCO DE UVA INTEG</td>\n",
       "      <td>SUCO UVA INTEGRAL</td>\n",
       "      <td>SUCO UVA</td>\n",
       "    </tr>\n",
       "    <tr>\n",
       "      <th>13</th>\n",
       "      <td>SUCO UVA PRAT S</td>\n",
       "      <td>SUCO UVA</td>\n",
       "      <td>SUCO LARANJA</td>\n",
       "    </tr>\n",
       "    <tr>\n",
       "      <th>14</th>\n",
       "      <td>SUCO DEL VALLE 100 LARANJA 1LT</td>\n",
       "      <td>SUCO LARANJA</td>\n",
       "      <td>SUCO UVA</td>\n",
       "    </tr>\n",
       "    <tr>\n",
       "      <th>15</th>\n",
       "      <td>SUCO DEL VALLE FRESH LARANJA 1 5L</td>\n",
       "      <td>SUCO LARANJA</td>\n",
       "      <td>SUCO UVA</td>\n",
       "    </tr>\n",
       "    <tr>\n",
       "      <th>16</th>\n",
       "      <td>SUCO KAPO LARANJA INF 200ML</td>\n",
       "      <td>SUCO LARANJA INTEGRAL</td>\n",
       "      <td>SUCO LARANJA</td>\n",
       "    </tr>\n",
       "    <tr>\n",
       "      <th>17</th>\n",
       "      <td>REFRIG COCA COLA SPRITE 2L LV PG</td>\n",
       "      <td>SPRITE</td>\n",
       "      <td>COCA-COLA</td>\n",
       "    </tr>\n",
       "    <tr>\n",
       "      <th>18</th>\n",
       "      <td>SUCO CAMPO LARGO UVA INTEGRAL 90</td>\n",
       "      <td>SUCO UVA INTEGRAL</td>\n",
       "      <td>SUCO UVA</td>\n",
       "    </tr>\n",
       "    <tr>\n",
       "      <th>19</th>\n",
       "      <td>SUCO DEL VALLE LARANJA</td>\n",
       "      <td>SUCO LARANJA</td>\n",
       "      <td>SUCO UVA</td>\n",
       "    </tr>\n",
       "    <tr>\n",
       "      <th>20</th>\n",
       "      <td>SUCO PRATS LARANJA INTG 330ML</td>\n",
       "      <td>SUCO LARANJA INTEGRAL</td>\n",
       "      <td>SUCO LARANJA</td>\n",
       "    </tr>\n",
       "    <tr>\n",
       "      <th>21</th>\n",
       "      <td>SUCO DEL VALLE PET LARANJA 1LT</td>\n",
       "      <td>SUCO LARANJA</td>\n",
       "      <td>SUCO UVA</td>\n",
       "    </tr>\n",
       "    <tr>\n",
       "      <th>22</th>\n",
       "      <td>REFRI CINI GUARANA 2L</td>\n",
       "      <td>CINI REFRIGERANTE</td>\n",
       "      <td>GUARANA ANTARTICA</td>\n",
       "    </tr>\n",
       "    <tr>\n",
       "      <th>23</th>\n",
       "      <td>SUCO UVA SU FRESH 200ML</td>\n",
       "      <td>SUCO UVA</td>\n",
       "      <td>SPRITE</td>\n",
       "    </tr>\n",
       "    <tr>\n",
       "      <th>24</th>\n",
       "      <td>SUCO DE UVA TINTO INTEGRAL CAMPO LARGO 1 350L</td>\n",
       "      <td>SUCO UVA INTEGRAL</td>\n",
       "      <td>SUCO UVA</td>\n",
       "    </tr>\n",
       "    <tr>\n",
       "      <th>25</th>\n",
       "      <td>SUCO INT LARANJA 1LT</td>\n",
       "      <td>SUCO LARANJA INTEGRAL</td>\n",
       "      <td>SUCO LARANJA</td>\n",
       "    </tr>\n",
       "    <tr>\n",
       "      <th>26</th>\n",
       "      <td>REFRIG COCA COLA ZER</td>\n",
       "      <td>COCA-COLA</td>\n",
       "      <td>COCA-COLA ZERO</td>\n",
       "    </tr>\n",
       "    <tr>\n",
       "      <th>27</th>\n",
       "      <td>SUCO E SO LARANJA INT 300ML</td>\n",
       "      <td>SUCO LARANJA INTEGRAL</td>\n",
       "      <td>SUCO LARANJA</td>\n",
       "    </tr>\n",
       "    <tr>\n",
       "      <th>28</th>\n",
       "      <td>SUCO INTEG UVA 300 ML NOVO CITRUS</td>\n",
       "      <td>SUCO UVA INTEGRAL</td>\n",
       "      <td>SUCO UVA</td>\n",
       "    </tr>\n",
       "    <tr>\n",
       "      <th>29</th>\n",
       "      <td>SUCO DEL VALLE PET LARANJA 450ML</td>\n",
       "      <td>SUCO LARANJA</td>\n",
       "      <td>SUCO UVA</td>\n",
       "    </tr>\n",
       "    <tr>\n",
       "      <th>30</th>\n",
       "      <td>DEL VALLE 100 SUCO LARANJA 1L</td>\n",
       "      <td>SUCO LARANJA</td>\n",
       "      <td>SUCO UVA</td>\n",
       "    </tr>\n",
       "    <tr>\n",
       "      <th>31</th>\n",
       "      <td>SUCO TANG UVA INTENSA 25G</td>\n",
       "      <td>SUCO UVA INTEGRAL</td>\n",
       "      <td>SUCO UVA</td>\n",
       "    </tr>\n",
       "    <tr>\n",
       "      <th>32</th>\n",
       "      <td>SUCO PRATS UVA INT 900</td>\n",
       "      <td>SUCO UVA INTEGRAL</td>\n",
       "      <td>SUCO LARANJA</td>\n",
       "    </tr>\n",
       "    <tr>\n",
       "      <th>33</th>\n",
       "      <td>CINI MIX GUARANA ACA</td>\n",
       "      <td>CINI REFRIGERANTE</td>\n",
       "      <td>GUARANA ANTARTICA</td>\n",
       "    </tr>\n",
       "    <tr>\n",
       "      <th>34</th>\n",
       "      <td>SUCO DE UVA INTEG</td>\n",
       "      <td>SUCO UVA INTEGRAL</td>\n",
       "      <td>SUCO UVA</td>\n",
       "    </tr>\n",
       "    <tr>\n",
       "      <th>35</th>\n",
       "      <td>SUCO DEL VALLE FRUT LARANJA PET 1L</td>\n",
       "      <td>SUCO LARANJA</td>\n",
       "      <td>SUCO UVA</td>\n",
       "    </tr>\n",
       "    <tr>\n",
       "      <th>36</th>\n",
       "      <td>BEB SUCO UVA AURORA INTEG TINTO 1 5L</td>\n",
       "      <td>SUCO UVA INTEGRAL</td>\n",
       "      <td>SUCO UVA</td>\n",
       "    </tr>\n",
       "    <tr>\n",
       "      <th>37</th>\n",
       "      <td>SUCO PRATS LARANJA INTG 900ML</td>\n",
       "      <td>SUCO LARANJA INTEGRAL</td>\n",
       "      <td>SUCO LARANJA</td>\n",
       "    </tr>\n",
       "    <tr>\n",
       "      <th>38</th>\n",
       "      <td>SUCO DOM ELISEO INTEG UVA TINTO 1L GF</td>\n",
       "      <td>SUCO UVA INTEGRAL</td>\n",
       "      <td>SUCO UVA</td>\n",
       "    </tr>\n",
       "    <tr>\n",
       "      <th>39</th>\n",
       "      <td>SUCO KAPO DEL VALLE LARANJA 200ML</td>\n",
       "      <td>SUCO LARANJA</td>\n",
       "      <td>SUCO UVA</td>\n",
       "    </tr>\n",
       "    <tr>\n",
       "      <th>40</th>\n",
       "      <td>SUCO DE LARANJA INTEGRAL PRATS 1 7 L</td>\n",
       "      <td>SUCO LARANJA INTEGRAL</td>\n",
       "      <td>SUCO LARANJA</td>\n",
       "    </tr>\n",
       "    <tr>\n",
       "      <th>41</th>\n",
       "      <td>SUCO DE UVA PRATS 330ML</td>\n",
       "      <td>SUCO UVA</td>\n",
       "      <td>SUCO LARANJA</td>\n",
       "    </tr>\n",
       "    <tr>\n",
       "      <th>42</th>\n",
       "      <td>SUCO SU FRESH SOJA UVA 1LT</td>\n",
       "      <td>SUCO UVA</td>\n",
       "      <td>SPRITE</td>\n",
       "    </tr>\n",
       "    <tr>\n",
       "      <th>43</th>\n",
       "      <td>REFRI CINI GUARANA 2LT</td>\n",
       "      <td>CINI REFRIGERANTE</td>\n",
       "      <td>GUARANA ANTARTICA</td>\n",
       "    </tr>\n",
       "    <tr>\n",
       "      <th>44</th>\n",
       "      <td>SUCO LARANJA KAPO DEL VALLE 200ML</td>\n",
       "      <td>SUCO LARANJA</td>\n",
       "      <td>SUCO UVA</td>\n",
       "    </tr>\n",
       "    <tr>\n",
       "      <th>45</th>\n",
       "      <td>SUCO SU FRESH UVA 1L</td>\n",
       "      <td>SUCO UVA</td>\n",
       "      <td>SPRITE</td>\n",
       "    </tr>\n",
       "    <tr>\n",
       "      <th>46</th>\n",
       "      <td>SUCO BONBON UVA COM COCO HAITAI</td>\n",
       "      <td>SUCO UVA</td>\n",
       "      <td>COCA-COLA</td>\n",
       "    </tr>\n",
       "    <tr>\n",
       "      <th>47</th>\n",
       "      <td>SUCO NATURAL ONE INTEGRAL LARANJA 900ML</td>\n",
       "      <td>SUCO LARANJA INTEGRAL</td>\n",
       "      <td>SUCO LARANJA</td>\n",
       "    </tr>\n",
       "    <tr>\n",
       "      <th>48</th>\n",
       "      <td>SUCO PRATS UVA 330 ML</td>\n",
       "      <td>SUCO UVA</td>\n",
       "      <td>SUCO LARANJA</td>\n",
       "    </tr>\n",
       "    <tr>\n",
       "      <th>49</th>\n",
       "      <td>SUCO CASA PERINI INTEG UVA 1L GF</td>\n",
       "      <td>SUCO UVA INTEGRAL</td>\n",
       "      <td>SUCO UVA</td>\n",
       "    </tr>\n",
       "    <tr>\n",
       "      <th>50</th>\n",
       "      <td>SUCO CAMPO LARGO LARANJA INT RESF 900</td>\n",
       "      <td>SUCO LARANJA INTEGRAL</td>\n",
       "      <td>SUCO UVA</td>\n",
       "    </tr>\n",
       "    <tr>\n",
       "      <th>51</th>\n",
       "      <td>REF LATA FANTA GUARANA 200ML PET</td>\n",
       "      <td>GUARANA ANTARTICA</td>\n",
       "      <td>FANTA</td>\n",
       "    </tr>\n",
       "    <tr>\n",
       "      <th>52</th>\n",
       "      <td>SUCO FRAMB E UVAS BRAN INTEG NOBRE COLHE</td>\n",
       "      <td>SUCO UVA INTEGRAL</td>\n",
       "      <td>SUCO UVA</td>\n",
       "    </tr>\n",
       "    <tr>\n",
       "      <th>53</th>\n",
       "      <td>SUCO ALIANCA UVA TINTO INTEG 450ML</td>\n",
       "      <td>SUCO UVA INTEGRAL</td>\n",
       "      <td>SUCO UVA</td>\n",
       "    </tr>\n",
       "    <tr>\n",
       "      <th>54</th>\n",
       "      <td>SUCO NATURAL ONE UVA E MACA 2L</td>\n",
       "      <td>SUCO UVA</td>\n",
       "      <td>SUCO LARANJA</td>\n",
       "    </tr>\n",
       "    <tr>\n",
       "      <th>55</th>\n",
       "      <td>SUCO DEL VALLE MAIS LARANJA 1L</td>\n",
       "      <td>SUCO LARANJA</td>\n",
       "      <td>SUCO UVA</td>\n",
       "    </tr>\n",
       "    <tr>\n",
       "      <th>56</th>\n",
       "      <td>REF GUARANA CINI 2L</td>\n",
       "      <td>CINI REFRIGERANTE</td>\n",
       "      <td>GUARANA ANTARTICA</td>\n",
       "    </tr>\n",
       "  </tbody>\n",
       "</table>\n",
       "</div>"
      ],
      "text/plain": [
       "                                             Nome     Categoria Original  \\\n",
       "0            SUCO DE LARANJA INTEGRAL PRATS 900ML  SUCO LARANJA INTEGRAL   \n",
       "1               SUCO NATURAL ONE UVA E MACA 300ML               SUCO UVA   \n",
       "2             SUCO NATURAL ONE AMBIENTE UVA 180ML               SUCO UVA   \n",
       "3                           SUCO NAT ONE UVA MACA               SUCO UVA   \n",
       "4                  SUCO LARANJA CAMPO LARGO 900ML           SUCO LARANJA   \n",
       "5                 SUCO CAMPO LARGO LARANJA 1.35 L           SUCO LARANJA   \n",
       "6              SUCO CAMPO LARGO GOL LARANJA 250ML           SUCO LARANJA   \n",
       "7                  SUCO DEL VALLE KAPO LARANJA 20           SUCO LARANJA   \n",
       "8                       SUCO LARANJA 1L DEL VALLE           SUCO LARANJA   \n",
       "9                             REF CINI GUARANA 2L      CINI REFRIGERANTE   \n",
       "10                   REF LATA FANTA GUARANA 220ML      GUARANA ANTARTICA   \n",
       "11                        SUCO SU FRESH UVA 330ML               SUCO UVA   \n",
       "12                           GV SUCO DE UVA INTEG      SUCO UVA INTEGRAL   \n",
       "13                                SUCO UVA PRAT S               SUCO UVA   \n",
       "14                 SUCO DEL VALLE 100 LARANJA 1LT           SUCO LARANJA   \n",
       "15              SUCO DEL VALLE FRESH LARANJA 1 5L           SUCO LARANJA   \n",
       "16                    SUCO KAPO LARANJA INF 200ML  SUCO LARANJA INTEGRAL   \n",
       "17               REFRIG COCA COLA SPRITE 2L LV PG                 SPRITE   \n",
       "18               SUCO CAMPO LARGO UVA INTEGRAL 90      SUCO UVA INTEGRAL   \n",
       "19                         SUCO DEL VALLE LARANJA           SUCO LARANJA   \n",
       "20                  SUCO PRATS LARANJA INTG 330ML  SUCO LARANJA INTEGRAL   \n",
       "21                 SUCO DEL VALLE PET LARANJA 1LT           SUCO LARANJA   \n",
       "22                          REFRI CINI GUARANA 2L      CINI REFRIGERANTE   \n",
       "23                        SUCO UVA SU FRESH 200ML               SUCO UVA   \n",
       "24  SUCO DE UVA TINTO INTEGRAL CAMPO LARGO 1 350L      SUCO UVA INTEGRAL   \n",
       "25                           SUCO INT LARANJA 1LT  SUCO LARANJA INTEGRAL   \n",
       "26                           REFRIG COCA COLA ZER              COCA-COLA   \n",
       "27                    SUCO E SO LARANJA INT 300ML  SUCO LARANJA INTEGRAL   \n",
       "28              SUCO INTEG UVA 300 ML NOVO CITRUS      SUCO UVA INTEGRAL   \n",
       "29               SUCO DEL VALLE PET LARANJA 450ML           SUCO LARANJA   \n",
       "30                  DEL VALLE 100 SUCO LARANJA 1L           SUCO LARANJA   \n",
       "31                      SUCO TANG UVA INTENSA 25G      SUCO UVA INTEGRAL   \n",
       "32                         SUCO PRATS UVA INT 900      SUCO UVA INTEGRAL   \n",
       "33                           CINI MIX GUARANA ACA      CINI REFRIGERANTE   \n",
       "34                              SUCO DE UVA INTEG      SUCO UVA INTEGRAL   \n",
       "35             SUCO DEL VALLE FRUT LARANJA PET 1L           SUCO LARANJA   \n",
       "36           BEB SUCO UVA AURORA INTEG TINTO 1 5L      SUCO UVA INTEGRAL   \n",
       "37                  SUCO PRATS LARANJA INTG 900ML  SUCO LARANJA INTEGRAL   \n",
       "38          SUCO DOM ELISEO INTEG UVA TINTO 1L GF      SUCO UVA INTEGRAL   \n",
       "39              SUCO KAPO DEL VALLE LARANJA 200ML           SUCO LARANJA   \n",
       "40           SUCO DE LARANJA INTEGRAL PRATS 1 7 L  SUCO LARANJA INTEGRAL   \n",
       "41                        SUCO DE UVA PRATS 330ML               SUCO UVA   \n",
       "42                     SUCO SU FRESH SOJA UVA 1LT               SUCO UVA   \n",
       "43                         REFRI CINI GUARANA 2LT      CINI REFRIGERANTE   \n",
       "44              SUCO LARANJA KAPO DEL VALLE 200ML           SUCO LARANJA   \n",
       "45                           SUCO SU FRESH UVA 1L               SUCO UVA   \n",
       "46                SUCO BONBON UVA COM COCO HAITAI               SUCO UVA   \n",
       "47        SUCO NATURAL ONE INTEGRAL LARANJA 900ML  SUCO LARANJA INTEGRAL   \n",
       "48                          SUCO PRATS UVA 330 ML               SUCO UVA   \n",
       "49               SUCO CASA PERINI INTEG UVA 1L GF      SUCO UVA INTEGRAL   \n",
       "50          SUCO CAMPO LARGO LARANJA INT RESF 900  SUCO LARANJA INTEGRAL   \n",
       "51               REF LATA FANTA GUARANA 200ML PET      GUARANA ANTARTICA   \n",
       "52       SUCO FRAMB E UVAS BRAN INTEG NOBRE COLHE      SUCO UVA INTEGRAL   \n",
       "53             SUCO ALIANCA UVA TINTO INTEG 450ML      SUCO UVA INTEGRAL   \n",
       "54                 SUCO NATURAL ONE UVA E MACA 2L               SUCO UVA   \n",
       "55                 SUCO DEL VALLE MAIS LARANJA 1L           SUCO LARANJA   \n",
       "56                            REF GUARANA CINI 2L      CINI REFRIGERANTE   \n",
       "\n",
       "                 Pred  \n",
       "0        SUCO LARANJA  \n",
       "1        SUCO LARANJA  \n",
       "2        SUCO LARANJA  \n",
       "3        SUCO LARANJA  \n",
       "4            SUCO UVA  \n",
       "5            SUCO UVA  \n",
       "6            SUCO UVA  \n",
       "7            SUCO UVA  \n",
       "8            SUCO UVA  \n",
       "9   GUARANA ANTARTICA  \n",
       "10              FANTA  \n",
       "11             SPRITE  \n",
       "12           SUCO UVA  \n",
       "13       SUCO LARANJA  \n",
       "14           SUCO UVA  \n",
       "15           SUCO UVA  \n",
       "16       SUCO LARANJA  \n",
       "17          COCA-COLA  \n",
       "18           SUCO UVA  \n",
       "19           SUCO UVA  \n",
       "20       SUCO LARANJA  \n",
       "21           SUCO UVA  \n",
       "22  GUARANA ANTARTICA  \n",
       "23             SPRITE  \n",
       "24           SUCO UVA  \n",
       "25       SUCO LARANJA  \n",
       "26     COCA-COLA ZERO  \n",
       "27       SUCO LARANJA  \n",
       "28           SUCO UVA  \n",
       "29           SUCO UVA  \n",
       "30           SUCO UVA  \n",
       "31           SUCO UVA  \n",
       "32       SUCO LARANJA  \n",
       "33  GUARANA ANTARTICA  \n",
       "34           SUCO UVA  \n",
       "35           SUCO UVA  \n",
       "36           SUCO UVA  \n",
       "37       SUCO LARANJA  \n",
       "38           SUCO UVA  \n",
       "39           SUCO UVA  \n",
       "40       SUCO LARANJA  \n",
       "41       SUCO LARANJA  \n",
       "42             SPRITE  \n",
       "43  GUARANA ANTARTICA  \n",
       "44           SUCO UVA  \n",
       "45             SPRITE  \n",
       "46          COCA-COLA  \n",
       "47       SUCO LARANJA  \n",
       "48       SUCO LARANJA  \n",
       "49           SUCO UVA  \n",
       "50           SUCO UVA  \n",
       "51              FANTA  \n",
       "52           SUCO UVA  \n",
       "53           SUCO UVA  \n",
       "54       SUCO LARANJA  \n",
       "55           SUCO UVA  \n",
       "56  GUARANA ANTARTICA  "
      ]
     },
     "execution_count": 14,
     "metadata": {},
     "output_type": "execute_result"
    }
   ],
   "source": [
    "d = []\n",
    "\n",
    "for i in range(len(X_test)):\n",
    "    au = tfidf_vectorizer.transform([X_test.values[i]])\n",
    "    pred = knn.predict(au.toarray())\n",
    "    if (y_test.values[i] != pred[0]):\n",
    "        d.append(\n",
    "            [\n",
    "                X_test.values[i],\n",
    "                le.inverse_transform([y_test.values[i]])[0],\n",
    "                le.inverse_transform(pred)[0]\n",
    "            ]\n",
    "        )\n",
    "\n",
    "df_error = pd.DataFrame(data=d,columns=['Nome','Categoria Original','Pred'])\n",
    "df_error"
   ]
  },
  {
   "cell_type": "code",
   "execution_count": 15,
   "metadata": {},
   "outputs": [
    {
     "data": {
      "image/png": "[encoded data removed]",
      "text/plain": [
       "<Figure size 576x576 with 1 Axes>"
      ]
     },
     "metadata": {
      "needs_background": "light"
     },
     "output_type": "display_data"
    }
   ],
   "source": [
    "tsne = TSNE().fit_transform(PCA(n_components=25).fit_transform(X_train.todense()))\n",
    "colors = [\"#\"+''.join([random.choice('0123456789ABCDEF') for j in range(6)]) for i in range(15)]\n",
    "\n",
    "# Create plot\n",
    "fig = plt.figure(figsize=(8,8))\n",
    "ax = fig.add_subplot(1, 1, 1)\n",
    "\n",
    "for g in np.unique(y_train):\n",
    "    ix = np.where(y_train == g)\n",
    "    ax.scatter(tsne[:,0][ix], tsne[:,1][ix], c=colors[g], label = le.inverse_transform([g])[0], s = 8)\n",
    "\n",
    "plt.title('Matplot scatter plot')\n",
    "plt.legend(loc='center left', bbox_to_anchor=(1, 0.5))\n",
    "plt.axhline(color='b')\n",
    "plt.axvline(color='b')\n",
    "plt.show()"
   ]
  },
  {
   "cell_type": "markdown",
   "metadata": {},
   "source": [
    "#### Matriz de Confusão"
   ]
  },
  {
   "cell_type": "code",
   "execution_count": 16,
   "metadata": {},
   "outputs": [
    {
     "data": {
      "text/plain": [
       "<sklearn.metrics._plot.confusion_matrix.ConfusionMatrixDisplay at 0x118419550>"
      ]
     },
     "execution_count": 16,
     "metadata": {},
     "output_type": "execute_result"
    },
    {
     "data": {
      "image/png": "[encoded data removed]",
      "text/plain": [
       "<Figure size 1440x1440 with 2 Axes>"
      ]
     },
     "metadata": {
      "needs_background": "light"
     },
     "output_type": "display_data"
    }
   ],
   "source": [
    "fig, ax = plt.subplots(figsize=(20, 20))\n",
    "plot_confusion_matrix(\n",
    "    knn,\n",
    "    tfidf_vectorizer.transform(X_test).toarray(),\n",
    "    y_test,\n",
    "    display_labels=np.unique(le.inverse_transform(y_test)),\n",
    "    cmap=plt.cm.Blues,\n",
    "    normalize='true',\n",
    "    ax=ax,\n",
    "    xticks_rotation='vertical'\n",
    ")"
   ]
  },
  {
   "cell_type": "code",
   "execution_count": null,
   "metadata": {},
   "outputs": [],
   "source": []
  }
 ],
 "metadata": {
  "kernelspec": {
   "display_name": "Python 3",
   "language": "python",
   "name": "python3"
  },
  "language_info": {
   "codemirror_mode": {
    "name": "ipython",
    "version": 3
   },
   "file_extension": ".py",
   "mimetype": "text/x-python",
   "name": "python",
   "nbconvert_exporter": "python",
   "pygments_lexer": "ipython3",
   "version": "3.7.7"
  }
 },
 "nbformat": 4,
 "nbformat_minor": 2
}

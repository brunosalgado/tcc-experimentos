{
 "cells": [
  {
   "cell_type": "markdown",
   "metadata": {},
   "source": [
    "# k-means\n",
    "### Modelo 01\n",
    "- CountVectorizer\n",
    "- Base A\n",
    "\n",
    "\n",
    "#### Imports necessarios para funcionamento da aplicacao"
   ]
  },
  {
   "cell_type": "code",
   "execution_count": 1,
   "metadata": {},
   "outputs": [],
   "source": [
    "import re\n",
    "import random\n",
    "import numpy as np\n",
    "import pandas as pd\n",
    "import matplotlib.pyplot as plt\n",
    "from sklearn.preprocessing import LabelEncoder\n",
    "from sklearn.model_selection import train_test_split\n",
    "from sklearn.cluster import KMeans\n",
    "from sklearn.metrics import accuracy_score, precision_score\n",
    "from nltk import word_tokenize\n",
    "from nltk.stem import RSLPStemmer\n",
    "from sklearn.feature_extraction.text import CountVectorizer\n",
    "from sklearn.manifold import TSNE\n",
    "from sklearn.decomposition import PCA\n",
    "from mlxtend.plotting import plot_confusion_matrix\n",
    "from sklearn.metrics import confusion_matrix"
   ]
  },
  {
   "cell_type": "markdown",
   "metadata": {},
   "source": [
    "#### Leitura do arquivo de dados"
   ]
  },
  {
   "cell_type": "code",
   "execution_count": 2,
   "metadata": {},
   "outputs": [
    {
     "data": {
      "text/html": [
       "<div>\n",
       "<style scoped>\n",
       "    .dataframe tbody tr th:only-of-type {\n",
       "        vertical-align: middle;\n",
       "    }\n",
       "\n",
       "    .dataframe tbody tr th {\n",
       "        vertical-align: top;\n",
       "    }\n",
       "\n",
       "    .dataframe thead th {\n",
       "        text-align: right;\n",
       "    }\n",
       "</style>\n",
       "<table border=\"1\" class=\"dataframe\">\n",
       "  <thead>\n",
       "    <tr style=\"text-align: right;\">\n",
       "      <th></th>\n",
       "      <th>nome</th>\n",
       "      <th>categoria</th>\n",
       "    </tr>\n",
       "  </thead>\n",
       "  <tbody>\n",
       "    <tr>\n",
       "      <th>0</th>\n",
       "      <td>1051 SUCO DE UVA</td>\n",
       "      <td>SUCO UVA</td>\n",
       "    </tr>\n",
       "    <tr>\n",
       "      <th>1</th>\n",
       "      <td>110 PEPSI LIGHT</td>\n",
       "      <td>PEPSI</td>\n",
       "    </tr>\n",
       "    <tr>\n",
       "      <th>2</th>\n",
       "      <td>2L COCA COLA</td>\n",
       "      <td>COCA-COLA</td>\n",
       "    </tr>\n",
       "    <tr>\n",
       "      <th>3</th>\n",
       "      <td>AGUA SABORIZADA SPRITE LEMON FRESH 510ML</td>\n",
       "      <td>SPRITE</td>\n",
       "    </tr>\n",
       "    <tr>\n",
       "      <th>4</th>\n",
       "      <td>AGUA SPRITE</td>\n",
       "      <td>SPRITE</td>\n",
       "    </tr>\n",
       "  </tbody>\n",
       "</table>\n",
       "</div>"
      ],
      "text/plain": [
       "                                       nome  categoria\n",
       "0                          1051 SUCO DE UVA   SUCO UVA\n",
       "1                           110 PEPSI LIGHT      PEPSI\n",
       "2                              2L COCA COLA  COCA-COLA\n",
       "3  AGUA SABORIZADA SPRITE LEMON FRESH 510ML     SPRITE\n",
       "4                               AGUA SPRITE     SPRITE"
      ]
     },
     "execution_count": 2,
     "metadata": {},
     "output_type": "execute_result"
    }
   ],
   "source": [
    "df = pd.read_csv('../../base_a.csv')\n",
    "\n",
    "df.head()"
   ]
  },
  {
   "cell_type": "markdown",
   "metadata": {},
   "source": [
    "#### Efetua o tratamento dos dados"
   ]
  },
  {
   "cell_type": "code",
   "execution_count": 3,
   "metadata": {},
   "outputs": [
    {
     "data": {
      "text/html": [
       "<div>\n",
       "<style scoped>\n",
       "    .dataframe tbody tr th:only-of-type {\n",
       "        vertical-align: middle;\n",
       "    }\n",
       "\n",
       "    .dataframe tbody tr th {\n",
       "        vertical-align: top;\n",
       "    }\n",
       "\n",
       "    .dataframe thead th {\n",
       "        text-align: right;\n",
       "    }\n",
       "</style>\n",
       "<table border=\"1\" class=\"dataframe\">\n",
       "  <thead>\n",
       "    <tr style=\"text-align: right;\">\n",
       "      <th></th>\n",
       "      <th>nome</th>\n",
       "      <th>categoria</th>\n",
       "    </tr>\n",
       "  </thead>\n",
       "  <tbody>\n",
       "    <tr>\n",
       "      <th>0</th>\n",
       "      <td>1051 SUCO DE UVA</td>\n",
       "      <td>13</td>\n",
       "    </tr>\n",
       "    <tr>\n",
       "      <th>1</th>\n",
       "      <td>110 PEPSI LIGHT</td>\n",
       "      <td>8</td>\n",
       "    </tr>\n",
       "    <tr>\n",
       "      <th>2</th>\n",
       "      <td>2L COCA COLA</td>\n",
       "      <td>2</td>\n",
       "    </tr>\n",
       "    <tr>\n",
       "      <th>3</th>\n",
       "      <td>AGUA SABORIZADA SPRITE LEMON FRESH 510ML</td>\n",
       "      <td>10</td>\n",
       "    </tr>\n",
       "    <tr>\n",
       "      <th>4</th>\n",
       "      <td>AGUA SPRITE</td>\n",
       "      <td>10</td>\n",
       "    </tr>\n",
       "  </tbody>\n",
       "</table>\n",
       "</div>"
      ],
      "text/plain": [
       "                                       nome  categoria\n",
       "0                          1051 SUCO DE UVA         13\n",
       "1                           110 PEPSI LIGHT          8\n",
       "2                              2L COCA COLA          2\n",
       "3  AGUA SABORIZADA SPRITE LEMON FRESH 510ML         10\n",
       "4                               AGUA SPRITE         10"
      ]
     },
     "execution_count": 3,
     "metadata": {},
     "output_type": "execute_result"
    }
   ],
   "source": [
    "le = LabelEncoder()\n",
    "\n",
    "df.categoria = le.fit_transform(df.categoria)\n",
    "\n",
    "df.head()"
   ]
  },
  {
   "cell_type": "markdown",
   "metadata": {},
   "source": [
    "#### Função de tokenização"
   ]
  },
  {
   "cell_type": "code",
   "execution_count": 4,
   "metadata": {},
   "outputs": [],
   "source": [
    "stemmer = RSLPStemmer()\n",
    "\n",
    "def token(text):\n",
    "    text = re.sub('[0-9]|,|\\.|/|$|\\(|\\)|-|\\+|:|•', ' ', text)\n",
    "    txt = word_tokenize(text.lower())\n",
    "    return [stemmer.stem(word) for word in txt]"
   ]
  },
  {
   "cell_type": "markdown",
   "metadata": {},
   "source": [
    "#### Lista de Stop Words"
   ]
  },
  {
   "cell_type": "code",
   "execution_count": 5,
   "metadata": {},
   "outputs": [],
   "source": [
    "stopwords_arquivo = pd.read_csv('../../stopwords.csv')\n",
    "\n",
    "lista_stop_words = [ token(word)[0] for word in stopwords_arquivo.stopwords.values ]"
   ]
  },
  {
   "cell_type": "markdown",
   "metadata": {},
   "source": [
    "#### Separa base de treino e teste"
   ]
  },
  {
   "cell_type": "code",
   "execution_count": 6,
   "metadata": {},
   "outputs": [],
   "source": [
    "X_train,X_test,y_train,y_test = train_test_split(\n",
    "    df.nome,\n",
    "    df.categoria,\n",
    "    test_size = 0.3,\n",
    "    random_state = 42\n",
    ")"
   ]
  },
  {
   "cell_type": "markdown",
   "metadata": {},
   "source": [
    "#### Define CountVectorizer"
   ]
  },
  {
   "cell_type": "code",
   "execution_count": 7,
   "metadata": {},
   "outputs": [],
   "source": [
    "count_vectorizer = CountVectorizer(\n",
    "    tokenizer=token,\n",
    "    ngram_range=(1,1),\n",
    "    stop_words=lista_stop_words\n",
    ")"
   ]
  },
  {
   "cell_type": "markdown",
   "metadata": {},
   "source": [
    "#### Cria vocabulário"
   ]
  },
  {
   "cell_type": "code",
   "execution_count": 8,
   "metadata": {},
   "outputs": [],
   "source": [
    "X_train = count_vectorizer.fit_transform(X_train.values)"
   ]
  },
  {
   "cell_type": "markdown",
   "metadata": {},
   "source": [
    "## Etapa de treinamento\n",
    "#### Cria um classificador k-means"
   ]
  },
  {
   "cell_type": "code",
   "execution_count": 9,
   "metadata": {},
   "outputs": [],
   "source": [
    "kmeans = KMeans(\n",
    "    n_clusters = 15,\n",
    "    random_state=24\n",
    ")"
   ]
  },
  {
   "cell_type": "markdown",
   "metadata": {},
   "source": [
    "#### Treina o classificador"
   ]
  },
  {
   "cell_type": "code",
   "execution_count": 10,
   "metadata": {},
   "outputs": [
    {
     "data": {
      "text/plain": [
       "KMeans(n_clusters=15, random_state=24)"
      ]
     },
     "execution_count": 10,
     "metadata": {},
     "output_type": "execute_result"
    }
   ],
   "source": [
    "kmeans.fit(X_train.toarray(), y_train)"
   ]
  },
  {
   "cell_type": "markdown",
   "metadata": {},
   "source": [
    "## Etapa de Teste\n",
    "\n",
    "#### Efetua a predição"
   ]
  },
  {
   "cell_type": "code",
   "execution_count": 11,
   "metadata": {},
   "outputs": [],
   "source": [
    "Y_Pred = kmeans.predict(count_vectorizer.transform(X_test).toarray())"
   ]
  },
  {
   "cell_type": "markdown",
   "metadata": {},
   "source": [
    "#### Calcula a acurácia do classificador"
   ]
  },
  {
   "cell_type": "code",
   "execution_count": 12,
   "metadata": {},
   "outputs": [
    {
     "name": "stdout",
     "output_type": "stream",
     "text": [
      "acuracia: 9.1\n",
      "precisao: 6.9\n"
     ]
    }
   ],
   "source": [
    "print('acuracia: {:.1f}'.format(accuracy_score(y_test, Y_Pred) * 100))\n",
    "print('precisao: {:.1f}'.format(precision_score(y_test, Y_Pred, average=\"weighted\") * 100))"
   ]
  },
  {
   "cell_type": "markdown",
   "metadata": {},
   "source": [
    "#### Tabela com os itens classificados errados na base de teste"
   ]
  },
  {
   "cell_type": "code",
   "execution_count": 13,
   "metadata": {},
   "outputs": [
    {
     "data": {
      "text/html": [
       "<div>\n",
       "<style scoped>\n",
       "    .dataframe tbody tr th:only-of-type {\n",
       "        vertical-align: middle;\n",
       "    }\n",
       "\n",
       "    .dataframe tbody tr th {\n",
       "        vertical-align: top;\n",
       "    }\n",
       "\n",
       "    .dataframe thead th {\n",
       "        text-align: right;\n",
       "    }\n",
       "</style>\n",
       "<table border=\"1\" class=\"dataframe\">\n",
       "  <thead>\n",
       "    <tr style=\"text-align: right;\">\n",
       "      <th></th>\n",
       "      <th>Nome</th>\n",
       "      <th>Categoria Original</th>\n",
       "      <th>Pred</th>\n",
       "    </tr>\n",
       "  </thead>\n",
       "  <tbody>\n",
       "    <tr>\n",
       "      <th>0</th>\n",
       "      <td>CERV SKOL BEATS SENSES LN 313ML</td>\n",
       "      <td>SKOL</td>\n",
       "      <td>SUCO UVA</td>\n",
       "    </tr>\n",
       "    <tr>\n",
       "      <th>1</th>\n",
       "      <td>REF PET SPRITE 1 5LT</td>\n",
       "      <td>SPRITE</td>\n",
       "      <td>GUARANA ANTARTICA</td>\n",
       "    </tr>\n",
       "    <tr>\n",
       "      <th>2</th>\n",
       "      <td>GATORADE MORAN MARAC</td>\n",
       "      <td>GATORADE</td>\n",
       "      <td>SUCO LARANJA</td>\n",
       "    </tr>\n",
       "    <tr>\n",
       "      <th>3</th>\n",
       "      <td>REFRIGERANTE SPRITE LIMA O 2L</td>\n",
       "      <td>SPRITE</td>\n",
       "      <td>GUARANA ANTARTICA</td>\n",
       "    </tr>\n",
       "    <tr>\n",
       "      <th>4</th>\n",
       "      <td>SUCO DEL VALLE UVA SAC 200ML</td>\n",
       "      <td>SUCO UVA</td>\n",
       "      <td>PEPSI</td>\n",
       "    </tr>\n",
       "    <tr>\n",
       "      <th>...</th>\n",
       "      <td>...</td>\n",
       "      <td>...</td>\n",
       "      <td>...</td>\n",
       "    </tr>\n",
       "    <tr>\n",
       "      <th>963</th>\n",
       "      <td>REFR FANTA GUARANA LT 350ML</td>\n",
       "      <td>FANTA</td>\n",
       "      <td>COCA-COLA ZERO</td>\n",
       "    </tr>\n",
       "    <tr>\n",
       "      <th>964</th>\n",
       "      <td>REFRI ZERO FANTA LAR</td>\n",
       "      <td>FANTA</td>\n",
       "      <td>SPRITE</td>\n",
       "    </tr>\n",
       "    <tr>\n",
       "      <th>965</th>\n",
       "      <td>GUARANA KUAT LATA</td>\n",
       "      <td>KUAT</td>\n",
       "      <td>SUCO UVA INTEGRAL</td>\n",
       "    </tr>\n",
       "    <tr>\n",
       "      <th>966</th>\n",
       "      <td>SUCO DE LARANJA INTEGRAL 1LT SUCOESO</td>\n",
       "      <td>SUCO LARANJA INTEGRAL</td>\n",
       "      <td>FANTA</td>\n",
       "    </tr>\n",
       "    <tr>\n",
       "      <th>967</th>\n",
       "      <td>REFRIG CINI 2L LIMAO</td>\n",
       "      <td>CINI REFRIGERANTE</td>\n",
       "      <td>BRAHMA</td>\n",
       "    </tr>\n",
       "  </tbody>\n",
       "</table>\n",
       "<p>968 rows × 3 columns</p>\n",
       "</div>"
      ],
      "text/plain": [
       "                                     Nome     Categoria Original  \\\n",
       "0         CERV SKOL BEATS SENSES LN 313ML                   SKOL   \n",
       "1                    REF PET SPRITE 1 5LT                 SPRITE   \n",
       "2                    GATORADE MORAN MARAC               GATORADE   \n",
       "3           REFRIGERANTE SPRITE LIMA O 2L                 SPRITE   \n",
       "4            SUCO DEL VALLE UVA SAC 200ML               SUCO UVA   \n",
       "..                                    ...                    ...   \n",
       "963           REFR FANTA GUARANA LT 350ML                  FANTA   \n",
       "964                  REFRI ZERO FANTA LAR                  FANTA   \n",
       "965                     GUARANA KUAT LATA                   KUAT   \n",
       "966  SUCO DE LARANJA INTEGRAL 1LT SUCOESO  SUCO LARANJA INTEGRAL   \n",
       "967                  REFRIG CINI 2L LIMAO      CINI REFRIGERANTE   \n",
       "\n",
       "                  Pred  \n",
       "0             SUCO UVA  \n",
       "1    GUARANA ANTARTICA  \n",
       "2         SUCO LARANJA  \n",
       "3    GUARANA ANTARTICA  \n",
       "4                PEPSI  \n",
       "..                 ...  \n",
       "963     COCA-COLA ZERO  \n",
       "964             SPRITE  \n",
       "965  SUCO UVA INTEGRAL  \n",
       "966              FANTA  \n",
       "967             BRAHMA  \n",
       "\n",
       "[968 rows x 3 columns]"
      ]
     },
     "execution_count": 13,
     "metadata": {},
     "output_type": "execute_result"
    }
   ],
   "source": [
    "d = []\n",
    "\n",
    "for i in range(len(X_test)):\n",
    "    au = count_vectorizer.transform([X_test.values[i]])\n",
    "    pred = kmeans.predict(au.toarray())\n",
    "    if (y_test.values[i] != pred[0]):\n",
    "        d.append(\n",
    "            [\n",
    "                X_test.values[i],\n",
    "                le.inverse_transform([y_test.values[i]])[0],\n",
    "                le.inverse_transform(pred)[0]\n",
    "            ]\n",
    "        )\n",
    "\n",
    "df_error = pd.DataFrame(data=d,columns=['Nome','Categoria Original','Pred'])\n",
    "df_error"
   ]
  },
  {
   "cell_type": "markdown",
   "metadata": {},
   "source": [
    "#### Gráfico"
   ]
  },
  {
   "cell_type": "code",
   "execution_count": 14,
   "metadata": {},
   "outputs": [
    {
     "data": {
      "image/png": "[encoded data removed]",
      "text/plain": [
       "<Figure size 576x576 with 1 Axes>"
      ]
     },
     "metadata": {
      "needs_background": "light"
     },
     "output_type": "display_data"
    }
   ],
   "source": [
    "model = PCA(n_components=2)\n",
    "transformed = model.fit_transform(X_train.todense(), y_train)\n",
    "fig, ax = plt.subplots(figsize=(8,8))\n",
    "\n",
    "for g in np.unique(y_train):\n",
    "    ix = np.where(y_train == g)\n",
    "    ax.scatter(transformed[:,0][ix], transformed[:,1][ix], cmap='tab20b', s=20, label = le.inverse_transform([g])[0])\n",
    "\n",
    "centers = model.transform(kmeans.cluster_centers_)\n",
    "plt.scatter(centers[:, 0], centers[:, 1], s=300, c='black', alpha=0.5)\n",
    "\n",
    "plt.legend(loc='lower left',fontsize=7)\n",
    "plt.axhline(color='b')\n",
    "plt.axvline(color='b')\n",
    "plt.show()"
   ]
  },
  {
   "cell_type": "markdown",
   "metadata": {},
   "source": [
    "#### Termos por cluster"
   ]
  },
  {
   "cell_type": "code",
   "execution_count": 15,
   "metadata": {},
   "outputs": [
    {
     "name": "stdout",
     "output_type": "stream",
     "text": [
      "Cluster 0: cin, frambo, laranj, abacax, lima, guar, zer, wim, framb, citru\n",
      "Cluster 1: peps, col, twist, zer, promoca, cacul, ligth, tw, antarc, light\n",
      "Cluster 2: coc, col, zer, sacuc, acuc, z, divers, sem, i, fant\n",
      "Cluster 3: guar, antarc, fant, zer, antar, ant, diet, promoca, antarct, z\n",
      "Cluster 4: suc, laranj, natur, prat, larg, integr, vall, one, fresh, maguary\n",
      "Cluster 5: skol, malt, pur, promoca, x, suc, guar, zer, coc, gatorad\n",
      "Cluster 6: sprit, fresh, lemon, zer, orig, lima, acuc, sa, sem, agu\n",
      "Cluster 7: suc, integr, tint, branc, larg, so, flor, alianc, nobr, laranj\n",
      "Cluster 8: suc, larg, vall, tint, int, maguary, branc, natur, aur, one\n",
      "Cluster 9: cin, gengibirr, zer, gass, suc, guar, coc, col, fant, peps\n",
      "Cluster 10: fant, laranj, lar, zer, lja, zr, promoca, laran, guaran, suc\n",
      "Cluster 11: gatorad, isoton, maracuj, isot, lima, laranj, citr, frut, morang, tangerin\n",
      "Cluster 12: brahm, chopp, extr, zer, lag, malzbi, weis, alcool, red, ext\n",
      "Cluster 13: skol, beat, sens, pilsen, tonic, gin, promoca, sem, gt, b\n",
      "Cluster 14: kuat, guar, zer, promoca, light, gua, acuc, divers, ze, guaran\n"
     ]
    }
   ],
   "source": [
    "order_centroids = kmeans.cluster_centers_.argsort()[:, ::-1]\n",
    "terms = count_vectorizer.get_feature_names()\n",
    "for i in range(15):\n",
    "    top_ten_words = [terms[ind] for ind in order_centroids[i, :10]]\n",
    "    print(\"Cluster {}: {}\".format(i, ', '.join(top_ten_words)))"
   ]
  },
  {
   "cell_type": "markdown",
   "metadata": {},
   "source": [
    "#### Matriz de Confusão"
   ]
  },
  {
   "cell_type": "code",
   "execution_count": 16,
   "metadata": {},
   "outputs": [
    {
     "data": {
      "text/plain": [
       "(<Figure size 1440x1440 with 2 Axes>,\n",
       " <matplotlib.axes._subplots.AxesSubplot at 0x11e12a4d0>)"
      ]
     },
     "execution_count": 16,
     "metadata": {},
     "output_type": "execute_result"
    },
    {
     "data": {
      "image/png": "[encoded data removed]",
      "text/plain": [
       "<Figure size 1440x1440 with 2 Axes>"
      ]
     },
     "metadata": {
      "needs_background": "light"
     },
     "output_type": "display_data"
    }
   ],
   "source": [
    "plot_confusion_matrix(\n",
    "    conf_mat=confusion_matrix(y_test, Y_Pred),\n",
    "    figsize=(20, 20),\n",
    "    show_absolute=False,\n",
    "    show_normed=True,\n",
    "    colorbar=True,\n",
    "    class_names=np.unique(le.inverse_transform(y_test))\n",
    ")"
   ]
  },
  {
   "cell_type": "code",
   "execution_count": null,
   "metadata": {},
   "outputs": [],
   "source": []
  }
 ],
 "metadata": {
  "kernelspec": {
   "display_name": "Python 3",
   "language": "python",
   "name": "python3"
  },
  "language_info": {
   "codemirror_mode": {
    "name": "ipython",
    "version": 3
   },
   "file_extension": ".py",
   "mimetype": "text/x-python",
   "name": "python",
   "nbconvert_exporter": "python",
   "pygments_lexer": "ipython3",
   "version": "3.7.7"
  }
 },
 "nbformat": 4,
 "nbformat_minor": 2
}
